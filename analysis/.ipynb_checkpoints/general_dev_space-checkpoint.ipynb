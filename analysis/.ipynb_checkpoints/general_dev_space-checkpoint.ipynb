{
 "cells": [
  {
   "cell_type": "code",
   "execution_count": null,
   "metadata": {
    "collapsed": false
   },
   "outputs": [],
   "source": [
    "# Combine existing files\n",
    "import pandas as pd\n",
    "import os\n",
    "\n",
    "datadir = '/Users/ilya/code/random/metascience/data/'\n",
    "files = os.listdir(datadir)\n",
    "aggregated_files = []\n",
    "\n",
    "for start_ix in range(0, len(files) - 4500, 10):\n",
    "\n",
    "    d = pd.read_csv(datadir + files[start_ix])\n",
    "\n",
    "    for i in range(start_ix + 1, start_ix + 10):\n",
    "        new_d = pd.read_csv(datadir + files[i])\n",
    "        d = pd.concat([d, new_d], ignore_index=True)\n",
    "    \n",
    "    aggregated_files.append(d)"
   ]
  },
  {
   "cell_type": "code",
   "execution_count": 29,
   "metadata": {
    "collapsed": false
   },
   "outputs": [
    {
     "data": {
      "text/plain": [
       "1633"
      ]
     },
     "execution_count": 29,
     "metadata": {},
     "output_type": "execute_result"
    }
   ],
   "source": [
    "len(set(aggregated_files[1].subject.values))"
   ]
  },
  {
   "cell_type": "code",
   "execution_count": null,
   "metadata": {
    "collapsed": true
   },
   "outputs": [],
   "source": []
  }
 ],
 "metadata": {
  "kernelspec": {
   "display_name": "Python 2",
   "language": "python",
   "name": "python2"
  },
  "language_info": {
   "codemirror_mode": {
    "name": "ipython",
    "version": 2
   },
   "file_extension": ".py",
   "mimetype": "text/x-python",
   "name": "python",
   "nbconvert_exporter": "python",
   "pygments_lexer": "ipython2",
   "version": "2.7.13"
  }
 },
 "nbformat": 4,
 "nbformat_minor": 2
}
